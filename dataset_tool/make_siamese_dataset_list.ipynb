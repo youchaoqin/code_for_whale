{
 "cells": [
  {
   "cell_type": "code",
   "execution_count": 1,
   "metadata": {},
   "outputs": [],
   "source": [
    "import pandas as pd\n",
    "import os\n",
    "import numpy as np\n",
    "import copy\n",
    "import random"
   ]
  },
  {
   "cell_type": "code",
   "execution_count": 2,
   "metadata": {},
   "outputs": [
    {
     "name": "stdout",
     "output_type": "stream",
     "text": [
      "[[4, 8, 6, 7, 9, 1, 3, 0, 2, 5], [9, 0, 7, 1, 2, 8, 5, 4, 3, 6], [6, 7, 3, 0, 1, 4, 8, 5, 9, 2], [3, 0, 1, 4, 9, 6, 8, 5, 2, 7], [1, 3, 7, 8, 5, 2, 9, 0, 4, 6]]\n",
      "\n",
      "[[2, 0, 1], [2, 0, 1]]\n"
     ]
    }
   ],
   "source": [
    "def make_derangement(num_index, how_many):\n",
    "    idx = np.arange(num_index)\n",
    "    \n",
    "    sf = copy.deepcopy(idx)\n",
    "    results = []\n",
    "    for _ in range(min(num_index-1, how_many)):\n",
    "        # make a derangement\n",
    "        while True:\n",
    "            np.random.shuffle(sf)\n",
    "            if not np.any((sf == idx)):\n",
    "                results.append(sf.tolist())\n",
    "                break\n",
    "    return results\n",
    "\n",
    "print(make_derangement(10, 5))\n",
    "print()\n",
    "print(make_derangement(3, 5))"
   ]
  },
  {
   "cell_type": "code",
   "execution_count": 3,
   "metadata": {},
   "outputs": [
    {
     "name": "stdout",
     "output_type": "stream",
     "text": [
      "           Image         Id\n",
      "0  0000e88ab.jpg  w_f48451c\n",
      "1  0001f9222.jpg  w_c3d896a\n",
      "2  00029d126.jpg  w_20df2c5\n",
      "3  000a6daec.jpg  w_dd88965\n",
      "4  0016b897a.jpg  w_64404ac\n",
      "           Image         Id\n",
      "0  00050a15a.jpg  new_whale\n",
      "1  0005c1ef8.jpg  new_whale\n",
      "2  0006e997e.jpg  new_whale\n",
      "3  000f0f2bf.jpg  new_whale\n",
      "4  001d7450c.jpg  new_whale\n"
     ]
    }
   ],
   "source": [
    "no_new_whale_list = pd.read_csv('../../data/all/train_no_new_whale.csv')\n",
    "new_whale_list = pd.read_csv('../../data/all/new_whale.csv')\n",
    "print(no_new_whale_list.head())\n",
    "print(new_whale_list.head())"
   ]
  },
  {
   "cell_type": "code",
   "execution_count": 4,
   "metadata": {},
   "outputs": [
    {
     "name": "stdout",
     "output_type": "stream",
     "text": [
      "15697\n"
     ]
    }
   ],
   "source": [
    "no_new_whale_list_len = no_new_whale_list.shape[0]\n",
    "print(no_new_whale_list_len)"
   ]
  },
  {
   "cell_type": "code",
   "execution_count": 5,
   "metadata": {
    "scrolled": true
   },
   "outputs": [
    {
     "name": "stdout",
     "output_type": "stream",
     "text": [
      "['w_f48451c', 'w_c3d896a', 'w_20df2c5', 'w_dd88965', 'w_64404ac', 'w_a6f9d33', 'w_581ba42', 'w_cb622a2', 'w_d3b46e7', 'w_8cad422']\n",
      "5004\n"
     ]
    }
   ],
   "source": [
    "# get all ids for known whales\n",
    "known_ids = no_new_whale_list.Id.unique().tolist()\n",
    "print(known_ids[:10])\n",
    "print(len(known_ids))"
   ]
  },
  {
   "cell_type": "markdown",
   "metadata": {},
   "source": [
    "## make match pairs"
   ]
  },
  {
   "cell_type": "code",
   "execution_count": 6,
   "metadata": {
    "scrolled": true
   },
   "outputs": [
    {
     "name": "stdout",
     "output_type": "stream",
     "text": [
      "(76786, 5)\n"
     ]
    }
   ],
   "source": [
    "# make match pairs, in form: im_a, im_b, id_a, id_b, label, label == 1 means they're\n",
    "# from a same whale\n",
    "\n",
    "match_pairs = pd.DataFrame(columns=['im_a', 'im_b', 'id_a', 'id_b', 'label'])\n",
    "\n",
    "for id in known_ids:\n",
    "    one_whale = no_new_whale_list[no_new_whale_list.Id == id]\n",
    "    one_whale = one_whale.reset_index(drop=True)\n",
    "    one_whale_len = one_whale.shape[0]\n",
    "    \n",
    "    if  one_whale_len == 1:\n",
    "        continue # drop just ID which just has only one image\n",
    "        #im_a = one_whale.Image[0]\n",
    "        #im_b = one_whale.Image[0]\n",
    "        #id_a = id\n",
    "        #id_b = id\n",
    "        #label = int(1)\n",
    "        #match_pairs = match_pairs.append({'im_a':im_a, 'im_b':im_b, 'id_a':id_a,\n",
    "        #                                 'id_b':id_b, 'label':label},\n",
    "        #                                ignore_index=True)\n",
    "    else:\n",
    "        derangements = make_derangement(one_whale_len, 10)\n",
    "        for drg in derangements:\n",
    "            one_drged = one_whale.iloc[drg, :]\n",
    "            match_pairs = match_pairs.append(\n",
    "                pd.DataFrame({'im_a':one_whale.Image.iloc[:].as_matrix().tolist(),\n",
    "                 'im_b':one_drged.Image.iloc[:].as_matrix().tolist(), \n",
    "                 'id_a':id, 'id_b':id, 'label':int(1)}),\n",
    "                ignore_index=True)\n",
    "\n",
    "print(match_pairs.shape)"
   ]
  },
  {
   "cell_type": "code",
   "execution_count": 7,
   "metadata": {
    "scrolled": true
   },
   "outputs": [],
   "source": [
    "match_pairs.to_csv('../../data/all/match_pairs_10.csv', index=False)"
   ]
  },
  {
   "cell_type": "markdown",
   "metadata": {},
   "source": [
    "## make different pairs"
   ]
  },
  {
   "cell_type": "markdown",
   "metadata": {},
   "source": [
    "sicne we made 76786 match_paris, we now will make 5 times num of diffrent paris, for 15697 images in no_new_whale_list, we make 25 pairs for each image, 13 from no_new_whale_list, another 12 from new_whale_list"
   ]
  },
  {
   "cell_type": "code",
   "execution_count": 8,
   "metadata": {},
   "outputs": [
    {
     "name": "stdout",
     "output_type": "stream",
     "text": [
      "(392425, 5)\n"
     ]
    }
   ],
   "source": [
    "different_pairs = pd.DataFrame(columns=['id_a', 'id_b', 'im_a', 'im_b', 'label'])\n",
    "\n",
    "for i in range(no_new_whale_list_len):\n",
    "    one_whale = no_new_whale_list.iloc[i,:]\n",
    "    id_a = one_whale.Id\n",
    "    im_a = one_whale.Image\n",
    "    known_candidate = no_new_whale_list[no_new_whale_list.Id != id_a]\n",
    "    idxs_known = np.random.choice(np.arange(known_candidate.shape[0]).tolist(), 13)\n",
    "    idxs_new_whale = np.random.choice(np.arange(new_whale_list.shape[0]).tolist(), 12)\n",
    "    concated = pd.concat([known_candidate.iloc[idxs_known, :],\n",
    "                          new_whale_list.iloc[idxs_new_whale, :]],\n",
    "                        ignore_index=True)\n",
    "    different_pairs = different_pairs.append(\n",
    "        pd.DataFrame({'id_a': id_a,\n",
    "                      'id_b': concated.Id.iloc[:].as_matrix().tolist(),\n",
    "                      'im_a': im_a,\n",
    "                      'im_b': concated.Image.iloc[:].as_matrix().tolist(),\n",
    "                      'label': int(0)}), \n",
    "        ignore_index=True)\n",
    "\n",
    "print(different_pairs.shape)"
   ]
  },
  {
   "cell_type": "code",
   "execution_count": 9,
   "metadata": {
    "scrolled": true
   },
   "outputs": [
    {
     "name": "stdout",
     "output_type": "stream",
     "text": [
      "          id_a       id_b           im_a           im_b label\n",
      "200  w_d3b46e7  w_1ca9ab1  00357e37a.jpg  bb86f0613.jpg     0\n",
      "201  w_d3b46e7  w_2f350be  00357e37a.jpg  48dcbcac0.jpg     0\n",
      "202  w_d3b46e7  w_ef83760  00357e37a.jpg  f924801c6.jpg     0\n",
      "203  w_d3b46e7  w_1b0db58  00357e37a.jpg  f36ec15ff.jpg     0\n",
      "204  w_d3b46e7  w_5793f1c  00357e37a.jpg  d0b96c2e9.jpg     0\n",
      "205  w_d3b46e7  w_456646a  00357e37a.jpg  4a9ad3167.jpg     0\n",
      "206  w_d3b46e7  w_4441671  00357e37a.jpg  be49fc1a2.jpg     0\n",
      "207  w_d3b46e7  w_1ca7433  00357e37a.jpg  6cf8a08d1.jpg     0\n",
      "208  w_d3b46e7  w_03e3e5e  00357e37a.jpg  266992f6a.jpg     0\n",
      "209  w_d3b46e7  w_90abfeb  00357e37a.jpg  2f510dcb4.jpg     0\n",
      "210  w_d3b46e7  w_69b5ace  00357e37a.jpg  26d46f62c.jpg     0\n",
      "211  w_d3b46e7  w_e8b82f6  00357e37a.jpg  1ff9a9a3b.jpg     0\n",
      "212  w_d3b46e7  w_0fdf741  00357e37a.jpg  5003d7331.jpg     0\n",
      "213  w_d3b46e7  new_whale  00357e37a.jpg  523653a6b.jpg     0\n",
      "214  w_d3b46e7  new_whale  00357e37a.jpg  3257f472c.jpg     0\n",
      "215  w_d3b46e7  new_whale  00357e37a.jpg  3d4f9f22a.jpg     0\n",
      "216  w_d3b46e7  new_whale  00357e37a.jpg  f6ceb31bc.jpg     0\n",
      "217  w_d3b46e7  new_whale  00357e37a.jpg  7429a88af.jpg     0\n",
      "218  w_d3b46e7  new_whale  00357e37a.jpg  64c7591d3.jpg     0\n",
      "219  w_d3b46e7  new_whale  00357e37a.jpg  154a5dea3.jpg     0\n",
      "220  w_d3b46e7  new_whale  00357e37a.jpg  4c9aaf030.jpg     0\n",
      "221  w_d3b46e7  new_whale  00357e37a.jpg  1a7c60842.jpg     0\n",
      "222  w_d3b46e7  new_whale  00357e37a.jpg  f01d9a899.jpg     0\n",
      "223  w_d3b46e7  new_whale  00357e37a.jpg  3a45abe05.jpg     0\n",
      "224  w_d3b46e7  new_whale  00357e37a.jpg  27848db54.jpg     0\n",
      "225  w_8cad422  w_550ca18  00442c882.jpg  4fb67dfbb.jpg     0\n",
      "226  w_8cad422  w_b1b2f0f  00442c882.jpg  e1916c620.jpg     0\n",
      "227  w_8cad422  w_48872ad  00442c882.jpg  a9fccd06c.jpg     0\n",
      "228  w_8cad422  w_f1b6eea  00442c882.jpg  9fe0fdfc8.jpg     0\n",
      "229  w_8cad422  w_4ff2f4a  00442c882.jpg  56c352548.jpg     0\n",
      "..         ...        ...            ...            ...   ...\n",
      "370  w_8dddbee  new_whale  00514c876.jpg  8cf848d54.jpg     0\n",
      "371  w_8dddbee  new_whale  00514c876.jpg  8e8ca03b8.jpg     0\n",
      "372  w_8dddbee  new_whale  00514c876.jpg  77d1818da.jpg     0\n",
      "373  w_8dddbee  new_whale  00514c876.jpg  21b05eb04.jpg     0\n",
      "374  w_8dddbee  new_whale  00514c876.jpg  d786cc6ae.jpg     0\n",
      "375  w_2365d55  w_0a8e080  0052ce2f5.jpg  212eeaa42.jpg     0\n",
      "376  w_2365d55  w_4ea4f59  0052ce2f5.jpg  0b1377e45.jpg     0\n",
      "377  w_2365d55  w_f86b16b  0052ce2f5.jpg  b6430af24.jpg     0\n",
      "378  w_2365d55  w_f37c434  0052ce2f5.jpg  eea64152a.jpg     0\n",
      "379  w_2365d55  w_c566a3d  0052ce2f5.jpg  19308a3f1.jpg     0\n",
      "380  w_2365d55  w_242fb46  0052ce2f5.jpg  1883237ff.jpg     0\n",
      "381  w_2365d55  w_6fce84d  0052ce2f5.jpg  346b64046.jpg     0\n",
      "382  w_2365d55  w_0a1fcd6  0052ce2f5.jpg  7056562e7.jpg     0\n",
      "383  w_2365d55  w_c4f01e2  0052ce2f5.jpg  1a34a0d37.jpg     0\n",
      "384  w_2365d55  w_0e0b65c  0052ce2f5.jpg  42575e722.jpg     0\n",
      "385  w_2365d55  w_5a2634c  0052ce2f5.jpg  83171df9f.jpg     0\n",
      "386  w_2365d55  w_f64d347  0052ce2f5.jpg  6f4cee3a6.jpg     0\n",
      "387  w_2365d55  w_465d9c7  0052ce2f5.jpg  e551d26a6.jpg     0\n",
      "388  w_2365d55  new_whale  0052ce2f5.jpg  82737a0ed.jpg     0\n",
      "389  w_2365d55  new_whale  0052ce2f5.jpg  5a826b9e2.jpg     0\n",
      "390  w_2365d55  new_whale  0052ce2f5.jpg  7e4b7ec28.jpg     0\n",
      "391  w_2365d55  new_whale  0052ce2f5.jpg  8436d826b.jpg     0\n",
      "392  w_2365d55  new_whale  0052ce2f5.jpg  70ee4adcb.jpg     0\n",
      "393  w_2365d55  new_whale  0052ce2f5.jpg  648750eda.jpg     0\n",
      "394  w_2365d55  new_whale  0052ce2f5.jpg  9c9fd59ef.jpg     0\n",
      "395  w_2365d55  new_whale  0052ce2f5.jpg  b705d5043.jpg     0\n",
      "396  w_2365d55  new_whale  0052ce2f5.jpg  210d48a5d.jpg     0\n",
      "397  w_2365d55  new_whale  0052ce2f5.jpg  04ab8f618.jpg     0\n",
      "398  w_2365d55  new_whale  0052ce2f5.jpg  01cd70a58.jpg     0\n",
      "399  w_2365d55  new_whale  0052ce2f5.jpg  d78425146.jpg     0\n",
      "\n",
      "[200 rows x 5 columns]\n",
      "             id_a       id_b           im_a           im_b label\n",
      "392025  w_772845b  w_698fcbe  ffa3d0d2e.jpg  9c88e1f32.jpg     0\n",
      "392026  w_772845b  w_2034344  ffa3d0d2e.jpg  b21ca3896.jpg     0\n",
      "392027  w_772845b  w_d066c0a  ffa3d0d2e.jpg  d72b8b423.jpg     0\n",
      "392028  w_772845b  w_cb4d3ed  ffa3d0d2e.jpg  f1af80e74.jpg     0\n",
      "392029  w_772845b  w_56cb095  ffa3d0d2e.jpg  653b3b0e3.jpg     0\n",
      "392030  w_772845b  w_551f361  ffa3d0d2e.jpg  f0a811d6c.jpg     0\n",
      "392031  w_772845b  w_16b5050  ffa3d0d2e.jpg  ee2cb0f57.jpg     0\n",
      "392032  w_772845b  w_1247b8c  ffa3d0d2e.jpg  907556216.jpg     0\n",
      "392033  w_772845b  w_576026e  ffa3d0d2e.jpg  a4e619da0.jpg     0\n",
      "392034  w_772845b  w_8da30ad  ffa3d0d2e.jpg  261eb57e6.jpg     0\n",
      "392035  w_772845b  w_a586dce  ffa3d0d2e.jpg  77998a8e4.jpg     0\n",
      "392036  w_772845b  w_9f13096  ffa3d0d2e.jpg  ad2f5f34d.jpg     0\n",
      "392037  w_772845b  w_9eb2d2a  ffa3d0d2e.jpg  1a9aae807.jpg     0\n",
      "392038  w_772845b  new_whale  ffa3d0d2e.jpg  0977c7301.jpg     0\n",
      "392039  w_772845b  new_whale  ffa3d0d2e.jpg  b15f34902.jpg     0\n",
      "392040  w_772845b  new_whale  ffa3d0d2e.jpg  77f9faad0.jpg     0\n",
      "392041  w_772845b  new_whale  ffa3d0d2e.jpg  440b7e2a5.jpg     0\n",
      "392042  w_772845b  new_whale  ffa3d0d2e.jpg  453a5fda7.jpg     0\n",
      "392043  w_772845b  new_whale  ffa3d0d2e.jpg  44f042afd.jpg     0\n",
      "392044  w_772845b  new_whale  ffa3d0d2e.jpg  bb3f6d178.jpg     0\n",
      "392045  w_772845b  new_whale  ffa3d0d2e.jpg  adf554527.jpg     0\n",
      "392046  w_772845b  new_whale  ffa3d0d2e.jpg  4e6fd0c0d.jpg     0\n",
      "392047  w_772845b  new_whale  ffa3d0d2e.jpg  4e7de08ff.jpg     0\n",
      "392048  w_772845b  new_whale  ffa3d0d2e.jpg  ce57238d9.jpg     0\n",
      "392049  w_772845b  new_whale  ffa3d0d2e.jpg  63b3017ac.jpg     0\n",
      "392050  w_420254e  w_f84e6e1  ffa5fa27e.jpg  0c0cea389.jpg     0\n",
      "392051  w_420254e  w_cfce505  ffa5fa27e.jpg  b160cb438.jpg     0\n",
      "392052  w_420254e  w_691b684  ffa5fa27e.jpg  26098b223.jpg     0\n",
      "392053  w_420254e  w_d11ce9a  ffa5fa27e.jpg  a174214ee.jpg     0\n",
      "392054  w_420254e  w_f7cd240  ffa5fa27e.jpg  d4c6e6552.jpg     0\n",
      "...           ...        ...            ...            ...   ...\n",
      "392195  w_4a28f21  new_whale  ffc0dd0dc.jpg  58bedd3fe.jpg     0\n",
      "392196  w_4a28f21  new_whale  ffc0dd0dc.jpg  2ee6acdb0.jpg     0\n",
      "392197  w_4a28f21  new_whale  ffc0dd0dc.jpg  abadbf79a.jpg     0\n",
      "392198  w_4a28f21  new_whale  ffc0dd0dc.jpg  70af12f4c.jpg     0\n",
      "392199  w_4a28f21  new_whale  ffc0dd0dc.jpg  403798138.jpg     0\n",
      "392200  w_51e7506  w_180e241  ffca5cb22.jpg  1d94946ef.jpg     0\n",
      "392201  w_51e7506  w_6cfa650  ffca5cb22.jpg  6ac6340ed.jpg     0\n",
      "392202  w_51e7506  w_dee1053  ffca5cb22.jpg  6f68a7ea0.jpg     0\n",
      "392203  w_51e7506  w_990921b  ffca5cb22.jpg  3671adf0d.jpg     0\n",
      "392204  w_51e7506  w_6ca173f  ffca5cb22.jpg  9e7b79db9.jpg     0\n",
      "392205  w_51e7506  w_cc79b6c  ffca5cb22.jpg  a59a7ef70.jpg     0\n",
      "392206  w_51e7506  w_f10aaf0  ffca5cb22.jpg  f5e59019f.jpg     0\n",
      "392207  w_51e7506  w_2e374c0  ffca5cb22.jpg  2b5b929ed.jpg     0\n",
      "392208  w_51e7506  w_e4a9205  ffca5cb22.jpg  58c49d387.jpg     0\n",
      "392209  w_51e7506  w_91cdea4  ffca5cb22.jpg  05cb42d60.jpg     0\n",
      "392210  w_51e7506  w_fd3e556  ffca5cb22.jpg  95acd37b5.jpg     0\n",
      "392211  w_51e7506  w_b938e96  ffca5cb22.jpg  19a81076c.jpg     0\n",
      "392212  w_51e7506  w_62c78f3  ffca5cb22.jpg  8f94af03a.jpg     0\n",
      "392213  w_51e7506  new_whale  ffca5cb22.jpg  279688ee2.jpg     0\n",
      "392214  w_51e7506  new_whale  ffca5cb22.jpg  0598630de.jpg     0\n",
      "392215  w_51e7506  new_whale  ffca5cb22.jpg  51db79496.jpg     0\n",
      "392216  w_51e7506  new_whale  ffca5cb22.jpg  428c44939.jpg     0\n",
      "392217  w_51e7506  new_whale  ffca5cb22.jpg  6447f1eeb.jpg     0\n",
      "392218  w_51e7506  new_whale  ffca5cb22.jpg  f717c645d.jpg     0\n",
      "392219  w_51e7506  new_whale  ffca5cb22.jpg  3700b446a.jpg     0\n",
      "392220  w_51e7506  new_whale  ffca5cb22.jpg  eea182824.jpg     0\n",
      "392221  w_51e7506  new_whale  ffca5cb22.jpg  42da4ddf6.jpg     0\n",
      "392222  w_51e7506  new_whale  ffca5cb22.jpg  633fabcfe.jpg     0\n",
      "392223  w_51e7506  new_whale  ffca5cb22.jpg  735980861.jpg     0\n",
      "392224  w_51e7506  new_whale  ffca5cb22.jpg  ed6ee4761.jpg     0\n",
      "\n",
      "[200 rows x 5 columns]\n"
     ]
    }
   ],
   "source": [
    "print(different_pairs.iloc[200:400])\n",
    "print(different_pairs.iloc[-400:-200])\n",
    "different_pairs.to_csv('../../data/all/different_pairs_10.csv', index=False)"
   ]
  },
  {
   "cell_type": "code",
   "execution_count": 10,
   "metadata": {
    "scrolled": true
   },
   "outputs": [
    {
     "name": "stdout",
     "output_type": "stream",
     "text": [
      "(469211, 5)\n"
     ]
    },
    {
     "data": {
      "text/html": [
       "<div>\n",
       "<style scoped>\n",
       "    .dataframe tbody tr th:only-of-type {\n",
       "        vertical-align: middle;\n",
       "    }\n",
       "\n",
       "    .dataframe tbody tr th {\n",
       "        vertical-align: top;\n",
       "    }\n",
       "\n",
       "    .dataframe thead th {\n",
       "        text-align: right;\n",
       "    }\n",
       "</style>\n",
       "<table border=\"1\" class=\"dataframe\">\n",
       "  <thead>\n",
       "    <tr style=\"text-align: right;\">\n",
       "      <th></th>\n",
       "      <th>id_a</th>\n",
       "      <th>id_b</th>\n",
       "      <th>im_a</th>\n",
       "      <th>im_b</th>\n",
       "      <th>label</th>\n",
       "    </tr>\n",
       "  </thead>\n",
       "  <tbody>\n",
       "    <tr>\n",
       "      <th>0</th>\n",
       "      <td>w_480d478</td>\n",
       "      <td>new_whale</td>\n",
       "      <td>e36654163.jpg</td>\n",
       "      <td>7e453ebba.jpg</td>\n",
       "      <td>0</td>\n",
       "    </tr>\n",
       "    <tr>\n",
       "      <th>1</th>\n",
       "      <td>w_e53ba4a</td>\n",
       "      <td>new_whale</td>\n",
       "      <td>b7e517743.jpg</td>\n",
       "      <td>b8e4d6d78.jpg</td>\n",
       "      <td>0</td>\n",
       "    </tr>\n",
       "    <tr>\n",
       "      <th>2</th>\n",
       "      <td>w_f765256</td>\n",
       "      <td>new_whale</td>\n",
       "      <td>212b9bd39.jpg</td>\n",
       "      <td>2cc7e409a.jpg</td>\n",
       "      <td>0</td>\n",
       "    </tr>\n",
       "    <tr>\n",
       "      <th>3</th>\n",
       "      <td>w_01f14e1</td>\n",
       "      <td>w_f829227</td>\n",
       "      <td>c1e1d7f3e.jpg</td>\n",
       "      <td>d844da11a.jpg</td>\n",
       "      <td>0</td>\n",
       "    </tr>\n",
       "    <tr>\n",
       "      <th>4</th>\n",
       "      <td>w_803ad0d</td>\n",
       "      <td>w_179c9f0</td>\n",
       "      <td>4eb9b51de.jpg</td>\n",
       "      <td>f69c572db.jpg</td>\n",
       "      <td>0</td>\n",
       "    </tr>\n",
       "    <tr>\n",
       "      <th>5</th>\n",
       "      <td>w_70d0b3c</td>\n",
       "      <td>new_whale</td>\n",
       "      <td>2d07ab7d2.jpg</td>\n",
       "      <td>fe0241a8f.jpg</td>\n",
       "      <td>0</td>\n",
       "    </tr>\n",
       "    <tr>\n",
       "      <th>6</th>\n",
       "      <td>w_cbb15d2</td>\n",
       "      <td>new_whale</td>\n",
       "      <td>ec0d8583d.jpg</td>\n",
       "      <td>22cb0c36f.jpg</td>\n",
       "      <td>0</td>\n",
       "    </tr>\n",
       "    <tr>\n",
       "      <th>7</th>\n",
       "      <td>w_4e1e04d</td>\n",
       "      <td>new_whale</td>\n",
       "      <td>00b92e9bf.jpg</td>\n",
       "      <td>1e55ac126.jpg</td>\n",
       "      <td>0</td>\n",
       "    </tr>\n",
       "    <tr>\n",
       "      <th>8</th>\n",
       "      <td>w_c25d2d1</td>\n",
       "      <td>new_whale</td>\n",
       "      <td>19d6253de.jpg</td>\n",
       "      <td>946fc7503.jpg</td>\n",
       "      <td>0</td>\n",
       "    </tr>\n",
       "    <tr>\n",
       "      <th>9</th>\n",
       "      <td>w_e2372d6</td>\n",
       "      <td>w_5a9abcf</td>\n",
       "      <td>241aeee0f.jpg</td>\n",
       "      <td>ac29bbe2e.jpg</td>\n",
       "      <td>0</td>\n",
       "    </tr>\n",
       "    <tr>\n",
       "      <th>10</th>\n",
       "      <td>w_62b631e</td>\n",
       "      <td>w_cbd2194</td>\n",
       "      <td>337bde0e4.jpg</td>\n",
       "      <td>d9fa21499.jpg</td>\n",
       "      <td>0</td>\n",
       "    </tr>\n",
       "    <tr>\n",
       "      <th>11</th>\n",
       "      <td>w_2745292</td>\n",
       "      <td>new_whale</td>\n",
       "      <td>5cc3ee34b.jpg</td>\n",
       "      <td>54e23d692.jpg</td>\n",
       "      <td>0</td>\n",
       "    </tr>\n",
       "    <tr>\n",
       "      <th>12</th>\n",
       "      <td>w_689e1cd</td>\n",
       "      <td>w_d0bfef3</td>\n",
       "      <td>086abcc75.jpg</td>\n",
       "      <td>06e157a91.jpg</td>\n",
       "      <td>0</td>\n",
       "    </tr>\n",
       "    <tr>\n",
       "      <th>13</th>\n",
       "      <td>w_ad6a6ca</td>\n",
       "      <td>w_ad6a6ca</td>\n",
       "      <td>ae2af8969.jpg</td>\n",
       "      <td>ab70f0115.jpg</td>\n",
       "      <td>1</td>\n",
       "    </tr>\n",
       "    <tr>\n",
       "      <th>14</th>\n",
       "      <td>w_fbf7d73</td>\n",
       "      <td>w_fbf7d73</td>\n",
       "      <td>9f4505249.jpg</td>\n",
       "      <td>91b9eb707.jpg</td>\n",
       "      <td>1</td>\n",
       "    </tr>\n",
       "    <tr>\n",
       "      <th>15</th>\n",
       "      <td>w_e36b021</td>\n",
       "      <td>new_whale</td>\n",
       "      <td>7a980b811.jpg</td>\n",
       "      <td>825f79c5d.jpg</td>\n",
       "      <td>0</td>\n",
       "    </tr>\n",
       "    <tr>\n",
       "      <th>16</th>\n",
       "      <td>w_bd572cf</td>\n",
       "      <td>new_whale</td>\n",
       "      <td>4d9fc178b.jpg</td>\n",
       "      <td>e88546ec8.jpg</td>\n",
       "      <td>0</td>\n",
       "    </tr>\n",
       "    <tr>\n",
       "      <th>17</th>\n",
       "      <td>w_49ce813</td>\n",
       "      <td>new_whale</td>\n",
       "      <td>83b2ca5aa.jpg</td>\n",
       "      <td>b70404789.jpg</td>\n",
       "      <td>0</td>\n",
       "    </tr>\n",
       "    <tr>\n",
       "      <th>18</th>\n",
       "      <td>w_c1d2d7f</td>\n",
       "      <td>w_40a8585</td>\n",
       "      <td>2e2da7d70.jpg</td>\n",
       "      <td>9d45383c8.jpg</td>\n",
       "      <td>0</td>\n",
       "    </tr>\n",
       "    <tr>\n",
       "      <th>19</th>\n",
       "      <td>w_3815890</td>\n",
       "      <td>w_5a9abcf</td>\n",
       "      <td>81d69b10c.jpg</td>\n",
       "      <td>9b9ec73a9.jpg</td>\n",
       "      <td>0</td>\n",
       "    </tr>\n",
       "  </tbody>\n",
       "</table>\n",
       "</div>"
      ],
      "text/plain": [
       "         id_a       id_b           im_a           im_b label\n",
       "0   w_480d478  new_whale  e36654163.jpg  7e453ebba.jpg     0\n",
       "1   w_e53ba4a  new_whale  b7e517743.jpg  b8e4d6d78.jpg     0\n",
       "2   w_f765256  new_whale  212b9bd39.jpg  2cc7e409a.jpg     0\n",
       "3   w_01f14e1  w_f829227  c1e1d7f3e.jpg  d844da11a.jpg     0\n",
       "4   w_803ad0d  w_179c9f0  4eb9b51de.jpg  f69c572db.jpg     0\n",
       "5   w_70d0b3c  new_whale  2d07ab7d2.jpg  fe0241a8f.jpg     0\n",
       "6   w_cbb15d2  new_whale  ec0d8583d.jpg  22cb0c36f.jpg     0\n",
       "7   w_4e1e04d  new_whale  00b92e9bf.jpg  1e55ac126.jpg     0\n",
       "8   w_c25d2d1  new_whale  19d6253de.jpg  946fc7503.jpg     0\n",
       "9   w_e2372d6  w_5a9abcf  241aeee0f.jpg  ac29bbe2e.jpg     0\n",
       "10  w_62b631e  w_cbd2194  337bde0e4.jpg  d9fa21499.jpg     0\n",
       "11  w_2745292  new_whale  5cc3ee34b.jpg  54e23d692.jpg     0\n",
       "12  w_689e1cd  w_d0bfef3  086abcc75.jpg  06e157a91.jpg     0\n",
       "13  w_ad6a6ca  w_ad6a6ca  ae2af8969.jpg  ab70f0115.jpg     1\n",
       "14  w_fbf7d73  w_fbf7d73  9f4505249.jpg  91b9eb707.jpg     1\n",
       "15  w_e36b021  new_whale  7a980b811.jpg  825f79c5d.jpg     0\n",
       "16  w_bd572cf  new_whale  4d9fc178b.jpg  e88546ec8.jpg     0\n",
       "17  w_49ce813  new_whale  83b2ca5aa.jpg  b70404789.jpg     0\n",
       "18  w_c1d2d7f  w_40a8585  2e2da7d70.jpg  9d45383c8.jpg     0\n",
       "19  w_3815890  w_5a9abcf  81d69b10c.jpg  9b9ec73a9.jpg     0"
      ]
     },
     "execution_count": 10,
     "metadata": {},
     "output_type": "execute_result"
    }
   ],
   "source": [
    "merged_list = pd.concat([match_pairs, different_pairs], ignore_index=True)\n",
    "shuffle_idx = np.arange(merged_list.shape[0])\n",
    "np.random.shuffle(shuffle_idx)\n",
    "np.random.shuffle(shuffle_idx)\n",
    "np.random.shuffle(shuffle_idx)\n",
    "merged_list = merged_list.iloc[shuffle_idx,:]\n",
    "merged_list = merged_list.reset_index(drop=True)\n",
    "print(merged_list.shape)\n",
    "merged_list.iloc[:20,:]"
   ]
  },
  {
   "cell_type": "code",
   "execution_count": 11,
   "metadata": {},
   "outputs": [],
   "source": [
    "merged_list.to_csv('../../data/all/siamese_pairs_10.csv', index=False)"
   ]
  },
  {
   "cell_type": "markdown",
   "metadata": {},
   "source": [
    "### split siamese_pairs_10_all into train and val split"
   ]
  },
  {
   "cell_type": "code",
   "execution_count": 13,
   "metadata": {},
   "outputs": [
    {
     "name": "stdout",
     "output_type": "stream",
     "text": [
      "(469211, 5)\n"
     ]
    },
    {
     "data": {
      "text/html": [
       "<div>\n",
       "<style scoped>\n",
       "    .dataframe tbody tr th:only-of-type {\n",
       "        vertical-align: middle;\n",
       "    }\n",
       "\n",
       "    .dataframe tbody tr th {\n",
       "        vertical-align: top;\n",
       "    }\n",
       "\n",
       "    .dataframe thead th {\n",
       "        text-align: right;\n",
       "    }\n",
       "</style>\n",
       "<table border=\"1\" class=\"dataframe\">\n",
       "  <thead>\n",
       "    <tr style=\"text-align: right;\">\n",
       "      <th></th>\n",
       "      <th>id_a</th>\n",
       "      <th>id_b</th>\n",
       "      <th>im_a</th>\n",
       "      <th>im_b</th>\n",
       "      <th>label</th>\n",
       "    </tr>\n",
       "  </thead>\n",
       "  <tbody>\n",
       "    <tr>\n",
       "      <th>0</th>\n",
       "      <td>w_480d478</td>\n",
       "      <td>new_whale</td>\n",
       "      <td>e36654163.jpg</td>\n",
       "      <td>7e453ebba.jpg</td>\n",
       "      <td>0</td>\n",
       "    </tr>\n",
       "    <tr>\n",
       "      <th>1</th>\n",
       "      <td>w_e53ba4a</td>\n",
       "      <td>new_whale</td>\n",
       "      <td>b7e517743.jpg</td>\n",
       "      <td>b8e4d6d78.jpg</td>\n",
       "      <td>0</td>\n",
       "    </tr>\n",
       "    <tr>\n",
       "      <th>2</th>\n",
       "      <td>w_f765256</td>\n",
       "      <td>new_whale</td>\n",
       "      <td>212b9bd39.jpg</td>\n",
       "      <td>2cc7e409a.jpg</td>\n",
       "      <td>0</td>\n",
       "    </tr>\n",
       "    <tr>\n",
       "      <th>3</th>\n",
       "      <td>w_01f14e1</td>\n",
       "      <td>w_f829227</td>\n",
       "      <td>c1e1d7f3e.jpg</td>\n",
       "      <td>d844da11a.jpg</td>\n",
       "      <td>0</td>\n",
       "    </tr>\n",
       "    <tr>\n",
       "      <th>4</th>\n",
       "      <td>w_803ad0d</td>\n",
       "      <td>w_179c9f0</td>\n",
       "      <td>4eb9b51de.jpg</td>\n",
       "      <td>f69c572db.jpg</td>\n",
       "      <td>0</td>\n",
       "    </tr>\n",
       "  </tbody>\n",
       "</table>\n",
       "</div>"
      ],
      "text/plain": [
       "        id_a       id_b           im_a           im_b  label\n",
       "0  w_480d478  new_whale  e36654163.jpg  7e453ebba.jpg      0\n",
       "1  w_e53ba4a  new_whale  b7e517743.jpg  b8e4d6d78.jpg      0\n",
       "2  w_f765256  new_whale  212b9bd39.jpg  2cc7e409a.jpg      0\n",
       "3  w_01f14e1  w_f829227  c1e1d7f3e.jpg  d844da11a.jpg      0\n",
       "4  w_803ad0d  w_179c9f0  4eb9b51de.jpg  f69c572db.jpg      0"
      ]
     },
     "execution_count": 13,
     "metadata": {},
     "output_type": "execute_result"
    }
   ],
   "source": [
    "siamese_paris_all = pd.read_csv('../../data/all/siamese_pairs_10.csv')\n",
    "print(siamese_paris_all.shape)\n",
    "siamese_paris_all.head()"
   ]
  },
  {
   "cell_type": "code",
   "execution_count": 14,
   "metadata": {},
   "outputs": [
    {
     "name": "stdout",
     "output_type": "stream",
     "text": [
      "[ 0  1  2  3  4  5  6  7  8  9 10 11 12 13 14 15 16 17 18 19]\n",
      "[401943  73790 189878 283706 202716 270863 293660  15707 201803  79844\n",
      " 284063  63645 447586 369383  45009 396151 185722 268636 182956  95472]\n"
     ]
    }
   ],
   "source": [
    "all_idx = np.arange(siamese_paris_all.shape[0])\n",
    "print(all_idx[:20])\n",
    "np.random.shuffle(all_idx)\n",
    "np.random.shuffle(all_idx)\n",
    "np.random.shuffle(all_idx)\n",
    "print(all_idx[:20])"
   ]
  },
  {
   "cell_type": "code",
   "execution_count": 15,
   "metadata": {},
   "outputs": [
    {
     "name": "stdout",
     "output_type": "stream",
     "text": [
      "(422289,) [401943  73790 189878 ... 415880 454870 316504] 0 469210\n",
      "(46922,) [104220  49251 224388 ... 247270  87957 220755] 12 469208\n"
     ]
    }
   ],
   "source": [
    "train_split_long = int(siamese_paris_all.shape[0] * 0.9)\n",
    "train_split_idx = all_idx[:train_split_long]\n",
    "val_split_idx = all_idx[train_split_long:]\n",
    "print(train_split_idx.shape, train_split_idx, train_split_idx.min(), train_split_idx.max())\n",
    "print(val_split_idx.shape, val_split_idx, val_split_idx.min(), val_split_idx.max())"
   ]
  },
  {
   "cell_type": "code",
   "execution_count": 16,
   "metadata": {},
   "outputs": [],
   "source": [
    "train_split = siamese_paris_all.iloc[train_split_idx]\n",
    "val_split = siamese_paris_all.iloc[val_split_idx]"
   ]
  },
  {
   "cell_type": "code",
   "execution_count": 17,
   "metadata": {},
   "outputs": [
    {
     "name": "stdout",
     "output_type": "stream",
     "text": [
      "(422289, 5)\n"
     ]
    },
    {
     "data": {
      "text/html": [
       "<div>\n",
       "<style scoped>\n",
       "    .dataframe tbody tr th:only-of-type {\n",
       "        vertical-align: middle;\n",
       "    }\n",
       "\n",
       "    .dataframe tbody tr th {\n",
       "        vertical-align: top;\n",
       "    }\n",
       "\n",
       "    .dataframe thead th {\n",
       "        text-align: right;\n",
       "    }\n",
       "</style>\n",
       "<table border=\"1\" class=\"dataframe\">\n",
       "  <thead>\n",
       "    <tr style=\"text-align: right;\">\n",
       "      <th></th>\n",
       "      <th>id_a</th>\n",
       "      <th>id_b</th>\n",
       "      <th>im_a</th>\n",
       "      <th>im_b</th>\n",
       "      <th>label</th>\n",
       "    </tr>\n",
       "  </thead>\n",
       "  <tbody>\n",
       "    <tr>\n",
       "      <th>401943</th>\n",
       "      <td>w_ab44ae4</td>\n",
       "      <td>new_whale</td>\n",
       "      <td>be51fb093.jpg</td>\n",
       "      <td>e106eb7b4.jpg</td>\n",
       "      <td>0</td>\n",
       "    </tr>\n",
       "    <tr>\n",
       "      <th>73790</th>\n",
       "      <td>w_20950a9</td>\n",
       "      <td>w_20950a9</td>\n",
       "      <td>d0e44ece4.jpg</td>\n",
       "      <td>a670c5bc2.jpg</td>\n",
       "      <td>1</td>\n",
       "    </tr>\n",
       "    <tr>\n",
       "      <th>189878</th>\n",
       "      <td>w_f91389a</td>\n",
       "      <td>w_ffa542b</td>\n",
       "      <td>f86bcd018.jpg</td>\n",
       "      <td>8abea550e.jpg</td>\n",
       "      <td>0</td>\n",
       "    </tr>\n",
       "    <tr>\n",
       "      <th>283706</th>\n",
       "      <td>w_ed1df50</td>\n",
       "      <td>new_whale</td>\n",
       "      <td>029449f85.jpg</td>\n",
       "      <td>d49a452aa.jpg</td>\n",
       "      <td>0</td>\n",
       "    </tr>\n",
       "    <tr>\n",
       "      <th>202716</th>\n",
       "      <td>w_d10cf66</td>\n",
       "      <td>w_1f1cee1</td>\n",
       "      <td>6f3df50a3.jpg</td>\n",
       "      <td>dd468c731.jpg</td>\n",
       "      <td>0</td>\n",
       "    </tr>\n",
       "  </tbody>\n",
       "</table>\n",
       "</div>"
      ],
      "text/plain": [
       "             id_a       id_b           im_a           im_b  label\n",
       "401943  w_ab44ae4  new_whale  be51fb093.jpg  e106eb7b4.jpg      0\n",
       "73790   w_20950a9  w_20950a9  d0e44ece4.jpg  a670c5bc2.jpg      1\n",
       "189878  w_f91389a  w_ffa542b  f86bcd018.jpg  8abea550e.jpg      0\n",
       "283706  w_ed1df50  new_whale  029449f85.jpg  d49a452aa.jpg      0\n",
       "202716  w_d10cf66  w_1f1cee1  6f3df50a3.jpg  dd468c731.jpg      0"
      ]
     },
     "execution_count": 17,
     "metadata": {},
     "output_type": "execute_result"
    }
   ],
   "source": [
    "print(train_split.shape)\n",
    "train_split.head()"
   ]
  },
  {
   "cell_type": "code",
   "execution_count": 18,
   "metadata": {},
   "outputs": [
    {
     "name": "stdout",
     "output_type": "stream",
     "text": [
      "(46922, 5)\n"
     ]
    },
    {
     "data": {
      "text/html": [
       "<div>\n",
       "<style scoped>\n",
       "    .dataframe tbody tr th:only-of-type {\n",
       "        vertical-align: middle;\n",
       "    }\n",
       "\n",
       "    .dataframe tbody tr th {\n",
       "        vertical-align: top;\n",
       "    }\n",
       "\n",
       "    .dataframe thead th {\n",
       "        text-align: right;\n",
       "    }\n",
       "</style>\n",
       "<table border=\"1\" class=\"dataframe\">\n",
       "  <thead>\n",
       "    <tr style=\"text-align: right;\">\n",
       "      <th></th>\n",
       "      <th>id_a</th>\n",
       "      <th>id_b</th>\n",
       "      <th>im_a</th>\n",
       "      <th>im_b</th>\n",
       "      <th>label</th>\n",
       "    </tr>\n",
       "  </thead>\n",
       "  <tbody>\n",
       "    <tr>\n",
       "      <th>104220</th>\n",
       "      <td>w_c25d2d1</td>\n",
       "      <td>new_whale</td>\n",
       "      <td>3f22b5160.jpg</td>\n",
       "      <td>e88546ec8.jpg</td>\n",
       "      <td>0</td>\n",
       "    </tr>\n",
       "    <tr>\n",
       "      <th>49251</th>\n",
       "      <td>w_2b4b82e</td>\n",
       "      <td>new_whale</td>\n",
       "      <td>bcd1a1957.jpg</td>\n",
       "      <td>1b3d1fa16.jpg</td>\n",
       "      <td>0</td>\n",
       "    </tr>\n",
       "    <tr>\n",
       "      <th>224388</th>\n",
       "      <td>w_c6b4d61</td>\n",
       "      <td>w_c6b4d61</td>\n",
       "      <td>85369a41f.jpg</td>\n",
       "      <td>ed135b296.jpg</td>\n",
       "      <td>1</td>\n",
       "    </tr>\n",
       "    <tr>\n",
       "      <th>184958</th>\n",
       "      <td>w_695c604</td>\n",
       "      <td>w_b71ac68</td>\n",
       "      <td>8f8328950.jpg</td>\n",
       "      <td>25ff06acf.jpg</td>\n",
       "      <td>0</td>\n",
       "    </tr>\n",
       "    <tr>\n",
       "      <th>139412</th>\n",
       "      <td>w_fd51859</td>\n",
       "      <td>w_b3ca4b7</td>\n",
       "      <td>bc9a158e6.jpg</td>\n",
       "      <td>5117e04c0.jpg</td>\n",
       "      <td>0</td>\n",
       "    </tr>\n",
       "  </tbody>\n",
       "</table>\n",
       "</div>"
      ],
      "text/plain": [
       "             id_a       id_b           im_a           im_b  label\n",
       "104220  w_c25d2d1  new_whale  3f22b5160.jpg  e88546ec8.jpg      0\n",
       "49251   w_2b4b82e  new_whale  bcd1a1957.jpg  1b3d1fa16.jpg      0\n",
       "224388  w_c6b4d61  w_c6b4d61  85369a41f.jpg  ed135b296.jpg      1\n",
       "184958  w_695c604  w_b71ac68  8f8328950.jpg  25ff06acf.jpg      0\n",
       "139412  w_fd51859  w_b3ca4b7  bc9a158e6.jpg  5117e04c0.jpg      0"
      ]
     },
     "execution_count": 18,
     "metadata": {},
     "output_type": "execute_result"
    }
   ],
   "source": [
    "print(val_split.shape)\n",
    "val_split.head()"
   ]
  },
  {
   "cell_type": "code",
   "execution_count": 19,
   "metadata": {},
   "outputs": [],
   "source": [
    "train_split.to_csv('../../data/all/siamese_pairs_10_train.csv', index=False)\n",
    "val_split.to_csv('../../data/all/siamese_pairs_10_val.csv', index=False)"
   ]
  },
  {
   "cell_type": "code",
   "execution_count": null,
   "metadata": {},
   "outputs": [],
   "source": []
  }
 ],
 "metadata": {
  "kernelspec": {
   "display_name": "Python 3",
   "language": "python",
   "name": "python3"
  },
  "language_info": {
   "codemirror_mode": {
    "name": "ipython",
    "version": 3
   },
   "file_extension": ".py",
   "mimetype": "text/x-python",
   "name": "python",
   "nbconvert_exporter": "python",
   "pygments_lexer": "ipython3",
   "version": "3.6.4"
  }
 },
 "nbformat": 4,
 "nbformat_minor": 2
}
